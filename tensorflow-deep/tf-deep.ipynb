{
 "cells": [
  {
   "cell_type": "code",
   "execution_count": 53,
   "metadata": {
    "collapsed": true
   },
   "outputs": [],
   "source": [
    "import tensorflow as tf"
   ]
  },
  {
   "cell_type": "code",
   "execution_count": 54,
   "metadata": {
    "collapsed": false
   },
   "outputs": [
    {
     "name": "stdout",
     "output_type": "stream",
     "text": [
      "Extracting .\\train-images-idx3-ubyte.gz\n",
      "Extracting .\\train-labels-idx1-ubyte.gz\n",
      "Extracting .\\t10k-images-idx3-ubyte.gz\n",
      "Extracting .\\t10k-labels-idx1-ubyte.gz\n"
     ]
    }
   ],
   "source": [
    "from tensorflow.examples.tutorials.mnist import input_data\n",
    "mnist = input_data.read_data_sets(\".\", one_hot=True, reshape=False)"
   ]
  },
  {
   "cell_type": "code",
   "execution_count": 55,
   "metadata": {
    "collapsed": true
   },
   "outputs": [],
   "source": [
    "learning_rate = 0.001\n",
    "training_epochs = 20\n",
    "batch_size = 128  \n",
    "display_step = 1\n",
    "\n",
    "n_input = 784 \n",
    "n_classes = 10 \n",
    "n_hidden_layer = 256"
   ]
  },
  {
   "cell_type": "code",
   "execution_count": 56,
   "metadata": {
    "collapsed": false
   },
   "outputs": [],
   "source": [
    "weights = {'hidden_layer': tf.Variable(tf.random_normal([n_input, n_hidden_layer])), \\\n",
    "          'out': tf.Variable(tf.random_normal([n_hidden_layer, n_classes])) }\n",
    "\n",
    "biases = {'hidden_layer': tf.Variable(tf.zeros_like([n_hidden_layer], dtype = 'float32')), \\\n",
    "          'out': tf.Variable(tf.zeros_like([n_classes], dtype = 'float32'), name='bias_out') }"
   ]
  },
  {
   "cell_type": "code",
   "execution_count": 57,
   "metadata": {
    "collapsed": true
   },
   "outputs": [],
   "source": [
    "x = tf.placeholder(\"float\", [None, 28, 28, 1])\n",
    "y = tf.placeholder(\"float\", [None, n_classes])\n",
    "\n",
    "x_flat = tf.reshape(x, [-1, n_input])"
   ]
  },
  {
   "cell_type": "code",
   "execution_count": 58,
   "metadata": {
    "collapsed": false
   },
   "outputs": [],
   "source": [
    "layer_1 = tf.add(tf.matmul(x_flat, weights['hidden_layer']), biases['hidden_layer'])\n",
    "layer_1 = tf.nn.relu(layer_1)\n",
    "\n",
    "out = tf.add(tf.matmul(layer_1, weights['out']), biases['out'])"
   ]
  },
  {
   "cell_type": "code",
   "execution_count": 59,
   "metadata": {
    "collapsed": false
   },
   "outputs": [],
   "source": [
    "cost = tf.reduce_mean(\\\n",
    "    tf.nn.softmax_cross_entropy_with_logits(logits=out, labels=y))\n",
    "optimizer = tf.train.GradientDescentOptimizer(learning_rate=learning_rate)\\\n",
    "    .minimize(cost)\n",
    "    \n",
    "correct_prediction = tf.equal(tf.argmax(out, 1), tf.argmax(y, 1))\n",
    "accuracy = tf.reduce_mean(tf.cast(correct_prediction, tf.float32))"
   ]
  },
  {
   "cell_type": "code",
   "execution_count": 60,
   "metadata": {
    "collapsed": true
   },
   "outputs": [],
   "source": [
    "init = tf.global_variables_initializer()\n",
    "\n",
    "save_file = './model.ckpt'\n",
    "saver = tf.train.Saver()    "
   ]
  },
  {
   "cell_type": "code",
   "execution_count": 61,
   "metadata": {
    "collapsed": false
   },
   "outputs": [
    {
     "name": "stdout",
     "output_type": "stream",
     "text": [
      "Epoch 0   - Validation Accuracy: 0.3330000042915344\n",
      "Epoch 5   - Validation Accuracy: 0.6815999746322632\n",
      "Epoch 10  - Validation Accuracy: 0.7462000250816345\n",
      "Epoch 15  - Validation Accuracy: 0.77920001745224\n",
      "Weights_hidden:\n",
      "[[-0.71542341  0.81547058  0.40509087 ..., -1.40644395  0.72746336\n",
      "  -1.21636331]\n",
      " [-0.67631149  0.39498919  0.4927645  ..., -0.70587647 -1.82230079\n",
      "   0.12502505]\n",
      " [-1.23066986  0.50444639  0.49351573 ..., -2.0194416  -0.26989356\n",
      "   0.30743435]\n",
      " ..., \n",
      " [ 0.41826931  0.33792326 -0.95405525 ...,  0.32898     0.46050224\n",
      "  -0.9028964 ]\n",
      " [-0.20934014  0.42786774  0.7566843  ..., -1.16201508 -0.61248893\n",
      "   0.29206827]\n",
      " [-1.71332717 -0.74021012  0.42013714 ..., -1.4052732  -0.59926176\n",
      "  -0.59334719]]\n",
      "Bias_hidden:\n",
      "[-5.3154254]\n"
     ]
    }
   ],
   "source": [
    "with tf.Session() as session:\n",
    "    session.run(init)\n",
    "    \n",
    "    for epoch in range(training_epochs):\n",
    "        total_batch = int(mnist.train.num_examples / batch_size)\n",
    "        \n",
    "        for i in range(total_batch):\n",
    "            batch_x, batch_y = mnist.train.next_batch(batch_size)\n",
    "            session.run(optimizer, feed_dict={x: batch_x, y: batch_y})\n",
    "            \n",
    "        if epoch % 5 == 0:\n",
    "            valid_accuracy = session.run(accuracy, \\\n",
    "                feed_dict={ \\\n",
    "                    x: mnist.validation.images, \\\n",
    "                    y: mnist.validation.labels}) \n",
    "            print('Epoch {:<3} - Validation Accuracy: {}'.format( \\\n",
    "                epoch, \\\n",
    "                valid_accuracy)) \\\n",
    "    \n",
    "    saver.save(session, save_file)\n",
    "    \n",
    "    print('Weights_hidden:')\n",
    "    print(session.run(weights['hidden_layer']))\n",
    "    print('Bias_hidden:')\n",
    "    print(session.run(biases['hidden_layer']))"
   ]
  },
  {
   "cell_type": "code",
   "execution_count": 62,
   "metadata": {
    "collapsed": true
   },
   "outputs": [],
   "source": [
    "##tf.reset_default_graph()"
   ]
  },
  {
   "cell_type": "code",
   "execution_count": 63,
   "metadata": {
    "collapsed": false
   },
   "outputs": [
    {
     "name": "stdout",
     "output_type": "stream",
     "text": [
      "Test Accuracy: 0.802299976348877\n"
     ]
    }
   ],
   "source": [
    "saver = tf.train.Saver()\n",
    "\n",
    "with tf.Session() as sess:\n",
    "    saver.restore(sess, save_file)\n",
    "\n",
    "    test_accuracy = sess.run(\n",
    "        accuracy,\n",
    "        feed_dict={x: mnist.test.images, y: mnist.test.labels})\n",
    "\n",
    "print('Test Accuracy: {}'.format(test_accuracy))"
   ]
  },
  {
   "cell_type": "code",
   "execution_count": 64,
   "metadata": {
    "collapsed": false
   },
   "outputs": [
    {
     "name": "stdout",
     "output_type": "stream",
     "text": [
      "Accuracy: Mean_3:0\n",
      "Hiiden input name: Variable_7:0\n",
      "Biases out name: bias_out_1:0\n"
     ]
    }
   ],
   "source": [
    "print('Accuracy: {}'.format(accuracy.name))\n",
    "print('Hiiden input name: {}'.format(weights['hidden_layer'].name))\n",
    "print('Biases out name: {}'.format(biases['out'].name))"
   ]
  },
  {
   "cell_type": "code",
   "execution_count": null,
   "metadata": {
    "collapsed": true
   },
   "outputs": [],
   "source": []
  }
 ],
 "metadata": {
  "kernelspec": {
   "display_name": "Python 3",
   "language": "python",
   "name": "python3"
  },
  "language_info": {
   "codemirror_mode": {
    "name": "ipython",
    "version": 3
   },
   "file_extension": ".py",
   "mimetype": "text/x-python",
   "name": "python",
   "nbconvert_exporter": "python",
   "pygments_lexer": "ipython3",
   "version": "3.5.3"
  }
 },
 "nbformat": 4,
 "nbformat_minor": 2
}
